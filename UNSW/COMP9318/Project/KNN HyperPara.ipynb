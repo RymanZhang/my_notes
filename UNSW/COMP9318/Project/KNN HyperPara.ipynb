{
 "cells": [
  {
   "cell_type": "markdown",
   "metadata": {},
   "source": [
    "## Choose the hyper parameter for KNN"
   ]
  },
  {
   "cell_type": "code",
   "execution_count": 3,
   "metadata": {
    "collapsed": true
   },
   "outputs": [],
   "source": [
    "import numpy as np\n",
    "import pandas as pd\n",
    "import helper\n",
    "import KNNTest\n",
    "import re\n",
    "import pickle\n",
    "from sklearn.model_selection import KFold, train_test_split\n",
    "from sklearn.neighbors import KNeighborsClassifier\n",
    "from sklearn.metrics import f1_score,precision_score, recall_score\n",
    "vowel = {'AA': 0, 'AW': 1, 'AY': 2, 'ER': 3, 'EY': 4, 'IY': 5, 'OW': 6, 'OY': 7, 'UW': 8, 'AE': 9, 'AH': 10, 'AO': 11, 'EH': 12, 'IH': 13, 'UH': 14}\n",
    "consonant = {'AA': 0, 'AW': 1, 'AY': 2, 'ER': 3, 'EY': 4, 'IY': 5, 'OW': 6, 'OY': 7, 'UW': 8, 'AE': 9, 'AH': 10, 'AO': 11, 'EH': 12, 'IH': 13, 'UH': 14, 'P': 15, 'B': 16, 'CH': 17, 'D': 18, 'DH': 19, 'F': 20, 'G': 21, 'HH': 22, 'JH': 23, 'K': 24, 'L': 25, 'M': 26, 'N': 27, 'NG': 28, 'R': 29, 'S': 30, 'SH': 31, 'T': 32, 'TH': 33, 'V': 34, 'W': 35, 'Y': 36, 'Z': 37, 'ZH': 38}\n",
    "raw_data = helper.read_data('./asset/training_data.txt')"
   ]
  },
  {
   "cell_type": "code",
   "execution_count": 4,
   "metadata": {
    "collapsed": true
   },
   "outputs": [],
   "source": [
    "final2, final3, final4 = KNNTest.train(raw_data, '')"
   ]
  },
  {
   "cell_type": "code",
   "execution_count": 10,
   "metadata": {
    "collapsed": false
   },
   "outputs": [
    {
     "data": {
      "text/html": [
       "<div>\n",
       "<table border=\"1\" class=\"dataframe\">\n",
       "  <thead>\n",
       "    <tr style=\"text-align: right;\">\n",
       "      <th></th>\n",
       "      <th>Target</th>\n",
       "      <th>C1234</th>\n",
       "      <th>C234</th>\n",
       "      <th>C123</th>\n",
       "      <th>C34</th>\n",
       "      <th>C23</th>\n",
       "      <th>C12</th>\n",
       "      <th>C4</th>\n",
       "      <th>C3</th>\n",
       "      <th>C2</th>\n",
       "      <th>...</th>\n",
       "      <th>1310</th>\n",
       "      <th>1311</th>\n",
       "      <th>1312</th>\n",
       "      <th>1313</th>\n",
       "      <th>1314</th>\n",
       "      <th>1315</th>\n",
       "      <th>1316</th>\n",
       "      <th>1317</th>\n",
       "      <th>1318</th>\n",
       "      <th>1319</th>\n",
       "    </tr>\n",
       "  </thead>\n",
       "  <tbody>\n",
       "    <tr>\n",
       "      <th>0</th>\n",
       "      <td>2</td>\n",
       "      <td>N AA N P OY Z AH N AH S</td>\n",
       "      <td>P OY Z AH N AH S</td>\n",
       "      <td>N AA N P OY Z AH</td>\n",
       "      <td>Z AH N AH S</td>\n",
       "      <td>P OY Z AH</td>\n",
       "      <td>N AA N P OY</td>\n",
       "      <td>N AH S</td>\n",
       "      <td>Z AH</td>\n",
       "      <td>P OY</td>\n",
       "      <td>...</td>\n",
       "      <td>1</td>\n",
       "      <td>0</td>\n",
       "      <td>0</td>\n",
       "      <td>0</td>\n",
       "      <td>0</td>\n",
       "      <td>0</td>\n",
       "      <td>0</td>\n",
       "      <td>0</td>\n",
       "      <td>0</td>\n",
       "      <td>0</td>\n",
       "    </tr>\n",
       "    <tr>\n",
       "      <th>1</th>\n",
       "      <td>2</td>\n",
       "      <td>L AA V EH K IY AH</td>\n",
       "      <td>V EH K IY AH</td>\n",
       "      <td>L AA V EH K IY</td>\n",
       "      <td>K IY AH</td>\n",
       "      <td>V EH K IY</td>\n",
       "      <td>L AA V EH</td>\n",
       "      <td>AH</td>\n",
       "      <td>K IY</td>\n",
       "      <td>V EH</td>\n",
       "      <td>...</td>\n",
       "      <td>0</td>\n",
       "      <td>0</td>\n",
       "      <td>0</td>\n",
       "      <td>0</td>\n",
       "      <td>0</td>\n",
       "      <td>0</td>\n",
       "      <td>0</td>\n",
       "      <td>0</td>\n",
       "      <td>0</td>\n",
       "      <td>1</td>\n",
       "    </tr>\n",
       "  </tbody>\n",
       "</table>\n",
       "<p>2 rows × 460 columns</p>\n",
       "</div>"
      ],
      "text/plain": [
       "   Target                    C1234              C234              C123  \\\n",
       "0       2  N AA N P OY Z AH N AH S  P OY Z AH N AH S  N AA N P OY Z AH   \n",
       "1       2        L AA V EH K IY AH      V EH K IY AH    L AA V EH K IY   \n",
       "\n",
       "           C34        C23          C12      C4    C3    C2  ...  1310  1311  \\\n",
       "0  Z AH N AH S  P OY Z AH  N AA N P OY  N AH S  Z AH  P OY  ...     1     0   \n",
       "1      K IY AH  V EH K IY    L AA V EH      AH  K IY  V EH  ...     0     0   \n",
       "\n",
       "   1312  1313  1314  1315  1316  1317  1318  1319  \n",
       "0     0     0     0     0     0     0     0     0  \n",
       "1     0     0     0     0     0     0     0     1  \n",
       "\n",
       "[2 rows x 460 columns]"
      ]
     },
     "execution_count": 10,
     "metadata": {},
     "output_type": "execute_result"
    }
   ],
   "source": [
    "final4[:2]"
   ]
  },
  {
   "cell_type": "code",
   "execution_count": 7,
   "metadata": {
    "collapsed": false
   },
   "outputs": [
    {
     "name": "stdout",
     "output_type": "stream",
     "text": [
      "(27682, 263)\n",
      "(15409, 361)\n",
      "(4896, 460)\n"
     ]
    }
   ],
   "source": [
    "print(final2.shape)\n",
    "print(final3.shape)\n",
    "print(final4.shape)"
   ]
  },
  {
   "cell_type": "markdown",
   "metadata": {},
   "source": [
    "## Vowel 4"
   ]
  },
  {
   "cell_type": "code",
   "execution_count": 24,
   "metadata": {
    "collapsed": true
   },
   "outputs": [],
   "source": [
    "## choose k\n",
    "train, test = train_test_split(final4, test_size = 0.1)\n",
    "features = list(final4.columns)[11:]\n",
    "combinations = list(final4.columns)[1:11]\n",
    "train_X = train[features]\n",
    "train_y = train['Target']\n",
    "test_X = test[features]\n",
    "test_y = test['Target']"
   ]
  },
  {
   "cell_type": "code",
   "execution_count": 26,
   "metadata": {
    "collapsed": false
   },
   "outputs": [],
   "source": [
    "#for i in range(10,20):\n",
    "#    print ('k = ' + str(i))\n",
    "#    neigh = KNeighborsClassifier(n_neighbors = i, weights='distance')\n",
    "#    neigh.fit(train_X, train_y)\n",
    "#    print('Training acc : ' + str(neigh.score(train_X, train_y)))\n",
    "#    print('Testing acc : ' + str(neigh.score(test_X, test_y)))\n",
    "#    pred = neigh.predict(test_X)\n",
    "#    print('F1 : ' + str(f1_score(list(test_y), pred, average='macro')))"
   ]
  },
  {
   "cell_type": "code",
   "execution_count": 28,
   "metadata": {
    "collapsed": false
   },
   "outputs": [
    {
     "name": "stdout",
     "output_type": "stream",
     "text": [
      "Round : 1\n",
      "Training acc : 0.999546073536\n",
      "Testing acc : 0.869387755102\n"
     ]
    },
    {
     "name": "stderr",
     "output_type": "stream",
     "text": [
      "/home/venturer/anaconda2/envs/python3/lib/python3.6/site-packages/sklearn/metrics/classification.py:1113: UndefinedMetricWarning: F-score is ill-defined and being set to 0.0 in labels with no predicted samples.\n",
      "  'precision', 'predicted', average, warn_for)\n"
     ]
    },
    {
     "name": "stdout",
     "output_type": "stream",
     "text": [
      "F1 : 0.634843321617\n",
      "= = = = = Round End = = = = =\n",
      "Round : 2\n",
      "Training acc : 0.999546073536\n",
      "Testing acc : 0.885714285714\n",
      "F1 : 0.639249829906\n",
      "= = = = = Round End = = = = =\n",
      "Round : 3\n",
      "Training acc : 0.999546073536\n",
      "Testing acc : 0.875510204082\n",
      "F1 : 0.644901237975\n",
      "= = = = = Round End = = = = =\n",
      "Round : 4\n",
      "Training acc : 0.999546073536\n",
      "Testing acc : 0.879591836735\n",
      "F1 : 0.639187127268\n",
      "= = = = = Round End = = = = =\n",
      "Round : 5\n",
      "Training acc : 0.999546073536\n",
      "Testing acc : 0.859183673469\n",
      "F1 : 0.632619007766\n",
      "= = = = = Round End = = = = =\n",
      "Average F1 : 0.638160104906\n"
     ]
    }
   ],
   "source": [
    "## Get average f1 before refine\n",
    "## change dataset\n",
    "## K = 15\n",
    "f1 = 0\n",
    "for round in range(1,6):\n",
    "    print(\"Round : \" + str(round))\n",
    "    train, test = train_test_split(final4, test_size = 0.1)\n",
    "    features = list(final4.columns)[11:]\n",
    "    train_X = train[features]\n",
    "    train_y = train['Target']\n",
    "    test_X = test[features]\n",
    "    test_y = test['Target']\n",
    "    neigh = KNeighborsClassifier(n_neighbors = 15, weights='distance')\n",
    "    neigh.fit(train_X, train_y)\n",
    "    print('Training acc : ' + str(neigh.score(train_X, train_y)))\n",
    "    print('Testing acc : ' + str(neigh.score(test_X, test_y)))\n",
    "    pred = neigh.predict(test_X)\n",
    "    curr_f1 = f1_score(list(test_y), pred, average='macro')\n",
    "    f1 += curr_f1\n",
    "    print('F1 : ' + str(curr_f1))\n",
    "    print(\"= = = = = Round End = = = = =\")\n",
    "print(\"Average F1 : \" + str(f1 * 1.0 / 5))"
   ]
  },
  {
   "cell_type": "code",
   "execution_count": 29,
   "metadata": {
    "collapsed": true
   },
   "outputs": [],
   "source": [
    "def get_refined_df(test_combination, df):\n",
    "    df_features = ['C1234','C234','C123','C34','C23','C12','C4','C3','C2','C1']\n",
    "    for i in range(len(df_features)):\n",
    "        sub_df = df[df[df_features[i]].str.contains('^' + test_combination[i] + '$')]\n",
    "        if sub_df.shape[0] > 0:\n",
    "            # print(\"Pattern : \" + df_features[i] + \" , \" + test_combination[i])\n",
    "            return sub_df\n",
    "    return df"
   ]
  },
  {
   "cell_type": "code",
   "execution_count": 31,
   "metadata": {
    "collapsed": true
   },
   "outputs": [],
   "source": [
    "## Get refined f1\n",
    "def test_model(train, test, features):\n",
    "    pred = []\n",
    "    test_X_total = test[features]\n",
    "    test_syllables_comb = test[syllables_comb]\n",
    "    for i in range(test.shape[0]):\n",
    "        curr_X = np.array(test_X_total.iloc[i]).reshape((1,-1))\n",
    "        curr_syllables_comb = list(test_syllables_comb.iloc[i])\n",
    "        \n",
    "        sub_train = get_refined_df(curr_syllables_comb, train)\n",
    "        train_X = sub_train[features]\n",
    "        train_y = sub_train[\"Target\"]\n",
    "        \n",
    "        if train_X.shape[0] < 15:\n",
    "            neigh = KNeighborsClassifier(n_neighbors = train_X.shape[0], weights='distance')\n",
    "            # neigh = KNeighborsClassifier(n_neighbors = 1)\n",
    "        else:\n",
    "            neigh = KNeighborsClassifier(n_neighbors = 15, weights='distance')\n",
    "        neigh.fit(train_X, train_y)\n",
    "        curr_pred = neigh.predict(curr_X)[0]\n",
    "        pred.append(curr_pred)\n",
    "    return pred"
   ]
  },
  {
   "cell_type": "code",
   "execution_count": null,
   "metadata": {
    "collapsed": false
   },
   "outputs": [],
   "source": [
    "#f1 = 0\n",
    "#for i in range(10):\n",
    "#    print(\"Round : \" + str(i))\n",
    "#    train, test = train_test_split(final4, test_size = 0.1)\n",
    "#    features = list(final4.columns)[11:]\n",
    "#    syllables_comb = list(final4.columns)[1:11]\n",
    "#    test_y = list(test.Target)\n",
    "#    pred = test_model(train, test, features)\n",
    "#    curr_f1 = f1_score(test_y, pred, average='macro')\n",
    "#    f1 += curr_f1\n",
    "#    print('F1 : ' + str(curr_f1))\n",
    "#print('Average F1 : ' + str(f1 * 1.0 / 5))"
   ]
  },
  {
   "cell_type": "markdown",
   "metadata": {},
   "source": [
    "## Vowel 3"
   ]
  },
  {
   "cell_type": "code",
   "execution_count": 34,
   "metadata": {
    "collapsed": false
   },
   "outputs": [
    {
     "name": "stdout",
     "output_type": "stream",
     "text": [
      "k = 5\n",
      "Training acc : 0.998629939429\n",
      "Testing acc : 0.882543802726\n",
      "F1 : 0.753440131186\n",
      "k = 6\n",
      "Training acc : 0.998629939429\n",
      "Testing acc : 0.883841661259\n",
      "F1 : 0.750316693505\n",
      "k = 7\n",
      "Training acc : 0.998629939429\n",
      "Testing acc : 0.887086307592\n",
      "F1 : 0.748289437055\n",
      "k = 8\n",
      "Training acc : 0.998629939429\n",
      "Testing acc : 0.889033095393\n",
      "F1 : 0.755370799534\n",
      "k = 9\n",
      "Training acc : 0.998629939429\n",
      "Testing acc : 0.889033095393\n",
      "F1 : 0.751947040861\n",
      "k = 10\n",
      "Training acc : 0.998629939429\n",
      "Testing acc : 0.894224529526\n",
      "F1 : 0.76071770606\n",
      "k = 11\n",
      "Training acc : 0.998629939429\n",
      "Testing acc : 0.891628812459\n",
      "F1 : 0.756687299686\n",
      "k = 12\n",
      "Training acc : 0.998629939429\n",
      "Testing acc : 0.89552238806\n",
      "F1 : 0.76568676419\n",
      "k = 13\n",
      "Training acc : 0.998629939429\n",
      "Testing acc : 0.89552238806\n",
      "F1 : 0.766999856051\n",
      "k = 14\n",
      "Training acc : 0.998629939429\n",
      "Testing acc : 0.892277741726\n",
      "F1 : 0.763303022106\n"
     ]
    }
   ],
   "source": [
    "## choose k\n",
    "train, test = train_test_split(final3, test_size = 0.1)\n",
    "features = list(final3.columns)[7:]\n",
    "combinations = list(final3.columns)[1:7]\n",
    "train_X = train[features]\n",
    "train_y = train['Target']\n",
    "test_X = test[features]\n",
    "test_y = test['Target']\n",
    "for i in range(5,15):\n",
    "    print ('k = ' + str(i))\n",
    "    neigh = KNeighborsClassifier(n_neighbors = i, weights='distance')\n",
    "    neigh.fit(train_X, train_y)\n",
    "    print('Training acc : ' + str(neigh.score(train_X, train_y)))\n",
    "    print('Testing acc : ' + str(neigh.score(test_X, test_y)))\n",
    "    pred = neigh.predict(test_X)\n",
    "    print('F1 : ' + str(f1_score(list(test_y), pred, average='macro')))"
   ]
  },
  {
   "cell_type": "code",
   "execution_count": 36,
   "metadata": {
    "collapsed": false
   },
   "outputs": [
    {
     "name": "stdout",
     "output_type": "stream",
     "text": [
      "Round : 1\n",
      "Training acc : 0.998485722527\n",
      "Testing acc : 0.898767034393\n",
      "F1 : 0.800797822777\n",
      "= = = = = Round End = = = = =\n",
      "Round : 2\n",
      "Training acc : 0.998485722527\n",
      "Testing acc : 0.904607397794\n",
      "F1 : 0.811603073338\n",
      "= = = = = Round End = = = = =\n",
      "Round : 3\n",
      "Training acc : 0.998557830978\n",
      "Testing acc : 0.898767034393\n",
      "F1 : 0.816856724765\n",
      "= = = = = Round End = = = = =\n",
      "Round : 4\n",
      "Training acc : 0.998557830978\n",
      "Testing acc : 0.89746917586\n",
      "F1 : 0.798189260235\n",
      "= = = = = Round End = = = = =\n",
      "Round : 5\n",
      "Training acc : 0.998557830978\n",
      "Testing acc : 0.885139519792\n",
      "F1 : 0.780719309762\n",
      "= = = = = Round End = = = = =\n",
      "Average F1 : 0.801633238175\n"
     ]
    }
   ],
   "source": [
    "## Get average f1 before refine\n",
    "## change dataset\n",
    "## K = 13\n",
    "f1 = 0\n",
    "for round in range(1,6):\n",
    "    print(\"Round : \" + str(round))\n",
    "    train, test = train_test_split(final3, test_size = 0.1)\n",
    "    features = list(final3.columns)[7:]\n",
    "    train_X = train[features]\n",
    "    train_y = train['Target']\n",
    "    test_X = test[features]\n",
    "    test_y = test['Target']\n",
    "    neigh = KNeighborsClassifier(n_neighbors = 13, weights='distance')\n",
    "    neigh.fit(train_X, train_y)\n",
    "    print('Training acc : ' + str(neigh.score(train_X, train_y)))\n",
    "    print('Testing acc : ' + str(neigh.score(test_X, test_y)))\n",
    "    pred = neigh.predict(test_X)\n",
    "    curr_f1 = f1_score(list(test_y), pred, average='macro')\n",
    "    f1 += curr_f1\n",
    "    print('F1 : ' + str(curr_f1))\n",
    "    print(\"= = = = = Round End = = = = =\")\n",
    "print(\"Average F1 : \" + str(f1 * 1.0 / 5))"
   ]
  },
  {
   "cell_type": "code",
   "execution_count": 39,
   "metadata": {
    "collapsed": true
   },
   "outputs": [],
   "source": [
    "def get_refined_df(test_combination, df):\n",
    "    df_features = ['C123','C23','C12', 'C3','C2','C1']\n",
    "    for i in range(len(df_features)):\n",
    "        sub_df = df[df[df_features[i]].str.contains('^' + test_combination[i] + '$')]\n",
    "        if sub_df.shape[0] > 0:\n",
    "            # print(\"Pattern : \" + df_features[i] + \" , \" + test_combination[i])\n",
    "            return sub_df\n",
    "    return df"
   ]
  },
  {
   "cell_type": "code",
   "execution_count": 37,
   "metadata": {
    "collapsed": true
   },
   "outputs": [],
   "source": [
    "## Get refined f1\n",
    "def test_model(train, test, features):\n",
    "    pred = []\n",
    "    test_X_total = test[features]\n",
    "    test_syllables_comb = test[syllables_comb]\n",
    "    for i in range(test.shape[0]):\n",
    "        curr_X = np.array(test_X_total.iloc[i]).reshape((1,-1))\n",
    "        curr_syllables_comb = list(test_syllables_comb.iloc[i])\n",
    "        \n",
    "        sub_train = get_refined_df(curr_syllables_comb, train)\n",
    "        train_X = sub_train[features]\n",
    "        train_y = sub_train[\"Target\"]\n",
    "        \n",
    "        if train_X.shape[0] < 13:\n",
    "            neigh = KNeighborsClassifier(n_neighbors = train_X.shape[0], weights='distance')\n",
    "            # neigh = KNeighborsClassifier(n_neighbors = 1)\n",
    "        else:\n",
    "            neigh = KNeighborsClassifier(n_neighbors = 13, weights='distance')\n",
    "        neigh.fit(train_X, train_y)\n",
    "        curr_pred = neigh.predict(curr_X)[0]\n",
    "        pred.append(curr_pred)\n",
    "    return pred"
   ]
  },
  {
   "cell_type": "code",
   "execution_count": 40,
   "metadata": {
    "collapsed": false
   },
   "outputs": [
    {
     "name": "stdout",
     "output_type": "stream",
     "text": [
      "Round : 0\n",
      "F1 : 0.808890448141\n",
      "Round : 1\n",
      "F1 : 0.80864627997\n",
      "Round : 2\n",
      "F1 : 0.824242787949\n",
      "Round : 3\n",
      "F1 : 0.819109876826\n",
      "Round : 4\n",
      "F1 : 0.807649449412\n",
      "Average F1 : 0.81370776846\n"
     ]
    }
   ],
   "source": [
    "f1 = 0\n",
    "for i in range(5):\n",
    "    print(\"Round : \" + str(i))\n",
    "    train, test = train_test_split(final3, test_size = 0.1)\n",
    "    features = list(final3.columns)[7:]\n",
    "    syllables_comb = list(final3.columns)[1:7]\n",
    "    test_y = list(test.Target)\n",
    "    pred = test_model(train, test, features)\n",
    "    curr_f1 = f1_score(test_y, pred, average='macro')\n",
    "    f1 += curr_f1\n",
    "    print('F1 : ' + str(curr_f1))\n",
    "print('Average F1 : ' + str(f1 * 1.0 / 5))"
   ]
  },
  {
   "cell_type": "markdown",
   "metadata": {},
   "source": [
    "## Vowel 2"
   ]
  },
  {
   "cell_type": "code",
   "execution_count": 41,
   "metadata": {
    "collapsed": false
   },
   "outputs": [
    {
     "name": "stdout",
     "output_type": "stream",
     "text": [
      "k = 5\n",
      "Training acc : 0.9971099426\n",
      "Testing acc : 0.936800288913\n"
     ]
    },
    {
     "name": "stderr",
     "output_type": "stream",
     "text": [
      "/home/venturer/anaconda2/envs/python3/lib/python3.6/site-packages/sklearn/metrics/classification.py:1113: UndefinedMetricWarning: F-score is ill-defined and being set to 0.0 in labels with no predicted samples.\n",
      "  'precision', 'predicted', average, warn_for)\n"
     ]
    },
    {
     "name": "stdout",
     "output_type": "stream",
     "text": [
      "F1 : 0.575291562182\n",
      "k = 10\n",
      "Training acc : 0.9971099426\n",
      "Testing acc : 0.936800288913\n",
      "F1 : 0.572438897434\n",
      "k = 15\n",
      "Training acc : 0.9971099426\n",
      "Testing acc : 0.940050559769\n",
      "F1 : 0.574040439039\n",
      "k = 20\n"
     ]
    },
    {
     "ename": "KeyboardInterrupt",
     "evalue": "",
     "output_type": "error",
     "traceback": [
      "\u001b[0;31m---------------------------------------------------------------------------\u001b[0m",
      "\u001b[0;31mKeyboardInterrupt\u001b[0m                         Traceback (most recent call last)",
      "\u001b[0;32m<ipython-input-41-84efe60692ef>\u001b[0m in \u001b[0;36m<module>\u001b[0;34m()\u001b[0m\n\u001b[1;32m     11\u001b[0m     \u001b[0mneigh\u001b[0m \u001b[0;34m=\u001b[0m \u001b[0mKNeighborsClassifier\u001b[0m\u001b[0;34m(\u001b[0m\u001b[0mn_neighbors\u001b[0m \u001b[0;34m=\u001b[0m \u001b[0mi\u001b[0m\u001b[0;34m,\u001b[0m \u001b[0mweights\u001b[0m\u001b[0;34m=\u001b[0m\u001b[0;34m'distance'\u001b[0m\u001b[0;34m)\u001b[0m\u001b[0;34m\u001b[0m\u001b[0m\n\u001b[1;32m     12\u001b[0m     \u001b[0mneigh\u001b[0m\u001b[0;34m.\u001b[0m\u001b[0mfit\u001b[0m\u001b[0;34m(\u001b[0m\u001b[0mtrain_X\u001b[0m\u001b[0;34m,\u001b[0m \u001b[0mtrain_y\u001b[0m\u001b[0;34m)\u001b[0m\u001b[0;34m\u001b[0m\u001b[0m\n\u001b[0;32m---> 13\u001b[0;31m     \u001b[0mprint\u001b[0m\u001b[0;34m(\u001b[0m\u001b[0;34m'Training acc : '\u001b[0m \u001b[0;34m+\u001b[0m \u001b[0mstr\u001b[0m\u001b[0;34m(\u001b[0m\u001b[0mneigh\u001b[0m\u001b[0;34m.\u001b[0m\u001b[0mscore\u001b[0m\u001b[0;34m(\u001b[0m\u001b[0mtrain_X\u001b[0m\u001b[0;34m,\u001b[0m \u001b[0mtrain_y\u001b[0m\u001b[0;34m)\u001b[0m\u001b[0;34m)\u001b[0m\u001b[0;34m)\u001b[0m\u001b[0;34m\u001b[0m\u001b[0m\n\u001b[0m\u001b[1;32m     14\u001b[0m     \u001b[0mprint\u001b[0m\u001b[0;34m(\u001b[0m\u001b[0;34m'Testing acc : '\u001b[0m \u001b[0;34m+\u001b[0m \u001b[0mstr\u001b[0m\u001b[0;34m(\u001b[0m\u001b[0mneigh\u001b[0m\u001b[0;34m.\u001b[0m\u001b[0mscore\u001b[0m\u001b[0;34m(\u001b[0m\u001b[0mtest_X\u001b[0m\u001b[0;34m,\u001b[0m \u001b[0mtest_y\u001b[0m\u001b[0;34m)\u001b[0m\u001b[0;34m)\u001b[0m\u001b[0;34m)\u001b[0m\u001b[0;34m\u001b[0m\u001b[0m\n\u001b[1;32m     15\u001b[0m     \u001b[0mpred\u001b[0m \u001b[0;34m=\u001b[0m \u001b[0mneigh\u001b[0m\u001b[0;34m.\u001b[0m\u001b[0mpredict\u001b[0m\u001b[0;34m(\u001b[0m\u001b[0mtest_X\u001b[0m\u001b[0;34m)\u001b[0m\u001b[0;34m\u001b[0m\u001b[0m\n",
      "\u001b[0;32m/home/venturer/anaconda2/envs/python3/lib/python3.6/site-packages/sklearn/base.py\u001b[0m in \u001b[0;36mscore\u001b[0;34m(self, X, y, sample_weight)\u001b[0m\n\u001b[1;32m    347\u001b[0m         \"\"\"\n\u001b[1;32m    348\u001b[0m         \u001b[0;32mfrom\u001b[0m \u001b[0;34m.\u001b[0m\u001b[0mmetrics\u001b[0m \u001b[0;32mimport\u001b[0m \u001b[0maccuracy_score\u001b[0m\u001b[0;34m\u001b[0m\u001b[0m\n\u001b[0;32m--> 349\u001b[0;31m         \u001b[0;32mreturn\u001b[0m \u001b[0maccuracy_score\u001b[0m\u001b[0;34m(\u001b[0m\u001b[0my\u001b[0m\u001b[0;34m,\u001b[0m \u001b[0mself\u001b[0m\u001b[0;34m.\u001b[0m\u001b[0mpredict\u001b[0m\u001b[0;34m(\u001b[0m\u001b[0mX\u001b[0m\u001b[0;34m)\u001b[0m\u001b[0;34m,\u001b[0m \u001b[0msample_weight\u001b[0m\u001b[0;34m=\u001b[0m\u001b[0msample_weight\u001b[0m\u001b[0;34m)\u001b[0m\u001b[0;34m\u001b[0m\u001b[0m\n\u001b[0m\u001b[1;32m    350\u001b[0m \u001b[0;34m\u001b[0m\u001b[0m\n\u001b[1;32m    351\u001b[0m \u001b[0;34m\u001b[0m\u001b[0m\n",
      "\u001b[0;32m/home/venturer/anaconda2/envs/python3/lib/python3.6/site-packages/sklearn/neighbors/classification.py\u001b[0m in \u001b[0;36mpredict\u001b[0;34m(self, X)\u001b[0m\n\u001b[1;32m    143\u001b[0m         \u001b[0mX\u001b[0m \u001b[0;34m=\u001b[0m \u001b[0mcheck_array\u001b[0m\u001b[0;34m(\u001b[0m\u001b[0mX\u001b[0m\u001b[0;34m,\u001b[0m \u001b[0maccept_sparse\u001b[0m\u001b[0;34m=\u001b[0m\u001b[0;34m'csr'\u001b[0m\u001b[0;34m)\u001b[0m\u001b[0;34m\u001b[0m\u001b[0m\n\u001b[1;32m    144\u001b[0m \u001b[0;34m\u001b[0m\u001b[0m\n\u001b[0;32m--> 145\u001b[0;31m         \u001b[0mneigh_dist\u001b[0m\u001b[0;34m,\u001b[0m \u001b[0mneigh_ind\u001b[0m \u001b[0;34m=\u001b[0m \u001b[0mself\u001b[0m\u001b[0;34m.\u001b[0m\u001b[0mkneighbors\u001b[0m\u001b[0;34m(\u001b[0m\u001b[0mX\u001b[0m\u001b[0;34m)\u001b[0m\u001b[0;34m\u001b[0m\u001b[0m\n\u001b[0m\u001b[1;32m    146\u001b[0m \u001b[0;34m\u001b[0m\u001b[0m\n\u001b[1;32m    147\u001b[0m         \u001b[0mclasses_\u001b[0m \u001b[0;34m=\u001b[0m \u001b[0mself\u001b[0m\u001b[0;34m.\u001b[0m\u001b[0mclasses_\u001b[0m\u001b[0;34m\u001b[0m\u001b[0m\n",
      "\u001b[0;32m/home/venturer/anaconda2/envs/python3/lib/python3.6/site-packages/sklearn/neighbors/base.py\u001b[0m in \u001b[0;36mkneighbors\u001b[0;34m(self, X, n_neighbors, return_distance)\u001b[0m\n\u001b[1;32m    379\u001b[0m                 delayed(self._tree.query, check_pickle=False)(\n\u001b[1;32m    380\u001b[0m                     X[s], n_neighbors, return_distance)\n\u001b[0;32m--> 381\u001b[0;31m                 \u001b[0;32mfor\u001b[0m \u001b[0ms\u001b[0m \u001b[0;32min\u001b[0m \u001b[0mgen_even_slices\u001b[0m\u001b[0;34m(\u001b[0m\u001b[0mX\u001b[0m\u001b[0;34m.\u001b[0m\u001b[0mshape\u001b[0m\u001b[0;34m[\u001b[0m\u001b[0;36m0\u001b[0m\u001b[0;34m]\u001b[0m\u001b[0;34m,\u001b[0m \u001b[0mn_jobs\u001b[0m\u001b[0;34m)\u001b[0m\u001b[0;34m\u001b[0m\u001b[0m\n\u001b[0m\u001b[1;32m    382\u001b[0m             )\n\u001b[1;32m    383\u001b[0m             \u001b[0;32mif\u001b[0m \u001b[0mreturn_distance\u001b[0m\u001b[0;34m:\u001b[0m\u001b[0;34m\u001b[0m\u001b[0m\n",
      "\u001b[0;32m/home/venturer/anaconda2/envs/python3/lib/python3.6/site-packages/sklearn/externals/joblib/parallel.py\u001b[0m in \u001b[0;36m__call__\u001b[0;34m(self, iterable)\u001b[0m\n\u001b[1;32m    756\u001b[0m             \u001b[0;31m# was dispatched. In particular this covers the edge\u001b[0m\u001b[0;34m\u001b[0m\u001b[0;34m\u001b[0m\u001b[0m\n\u001b[1;32m    757\u001b[0m             \u001b[0;31m# case of Parallel used with an exhausted iterator.\u001b[0m\u001b[0;34m\u001b[0m\u001b[0;34m\u001b[0m\u001b[0m\n\u001b[0;32m--> 758\u001b[0;31m             \u001b[0;32mwhile\u001b[0m \u001b[0mself\u001b[0m\u001b[0;34m.\u001b[0m\u001b[0mdispatch_one_batch\u001b[0m\u001b[0;34m(\u001b[0m\u001b[0miterator\u001b[0m\u001b[0;34m)\u001b[0m\u001b[0;34m:\u001b[0m\u001b[0;34m\u001b[0m\u001b[0m\n\u001b[0m\u001b[1;32m    759\u001b[0m                 \u001b[0mself\u001b[0m\u001b[0;34m.\u001b[0m\u001b[0m_iterating\u001b[0m \u001b[0;34m=\u001b[0m \u001b[0;32mTrue\u001b[0m\u001b[0;34m\u001b[0m\u001b[0m\n\u001b[1;32m    760\u001b[0m             \u001b[0;32melse\u001b[0m\u001b[0;34m:\u001b[0m\u001b[0;34m\u001b[0m\u001b[0m\n",
      "\u001b[0;32m/home/venturer/anaconda2/envs/python3/lib/python3.6/site-packages/sklearn/externals/joblib/parallel.py\u001b[0m in \u001b[0;36mdispatch_one_batch\u001b[0;34m(self, iterator)\u001b[0m\n\u001b[1;32m    606\u001b[0m                 \u001b[0;32mreturn\u001b[0m \u001b[0;32mFalse\u001b[0m\u001b[0;34m\u001b[0m\u001b[0m\n\u001b[1;32m    607\u001b[0m             \u001b[0;32melse\u001b[0m\u001b[0;34m:\u001b[0m\u001b[0;34m\u001b[0m\u001b[0m\n\u001b[0;32m--> 608\u001b[0;31m                 \u001b[0mself\u001b[0m\u001b[0;34m.\u001b[0m\u001b[0m_dispatch\u001b[0m\u001b[0;34m(\u001b[0m\u001b[0mtasks\u001b[0m\u001b[0;34m)\u001b[0m\u001b[0;34m\u001b[0m\u001b[0m\n\u001b[0m\u001b[1;32m    609\u001b[0m                 \u001b[0;32mreturn\u001b[0m \u001b[0;32mTrue\u001b[0m\u001b[0;34m\u001b[0m\u001b[0m\n\u001b[1;32m    610\u001b[0m \u001b[0;34m\u001b[0m\u001b[0m\n",
      "\u001b[0;32m/home/venturer/anaconda2/envs/python3/lib/python3.6/site-packages/sklearn/externals/joblib/parallel.py\u001b[0m in \u001b[0;36m_dispatch\u001b[0;34m(self, batch)\u001b[0m\n\u001b[1;32m    569\u001b[0m         \u001b[0mdispatch_timestamp\u001b[0m \u001b[0;34m=\u001b[0m \u001b[0mtime\u001b[0m\u001b[0;34m.\u001b[0m\u001b[0mtime\u001b[0m\u001b[0;34m(\u001b[0m\u001b[0;34m)\u001b[0m\u001b[0;34m\u001b[0m\u001b[0m\n\u001b[1;32m    570\u001b[0m         \u001b[0mcb\u001b[0m \u001b[0;34m=\u001b[0m \u001b[0mBatchCompletionCallBack\u001b[0m\u001b[0;34m(\u001b[0m\u001b[0mdispatch_timestamp\u001b[0m\u001b[0;34m,\u001b[0m \u001b[0mlen\u001b[0m\u001b[0;34m(\u001b[0m\u001b[0mbatch\u001b[0m\u001b[0;34m)\u001b[0m\u001b[0;34m,\u001b[0m \u001b[0mself\u001b[0m\u001b[0;34m)\u001b[0m\u001b[0;34m\u001b[0m\u001b[0m\n\u001b[0;32m--> 571\u001b[0;31m         \u001b[0mjob\u001b[0m \u001b[0;34m=\u001b[0m \u001b[0mself\u001b[0m\u001b[0;34m.\u001b[0m\u001b[0m_backend\u001b[0m\u001b[0;34m.\u001b[0m\u001b[0mapply_async\u001b[0m\u001b[0;34m(\u001b[0m\u001b[0mbatch\u001b[0m\u001b[0;34m,\u001b[0m \u001b[0mcallback\u001b[0m\u001b[0;34m=\u001b[0m\u001b[0mcb\u001b[0m\u001b[0;34m)\u001b[0m\u001b[0;34m\u001b[0m\u001b[0m\n\u001b[0m\u001b[1;32m    572\u001b[0m         \u001b[0mself\u001b[0m\u001b[0;34m.\u001b[0m\u001b[0m_jobs\u001b[0m\u001b[0;34m.\u001b[0m\u001b[0mappend\u001b[0m\u001b[0;34m(\u001b[0m\u001b[0mjob\u001b[0m\u001b[0;34m)\u001b[0m\u001b[0;34m\u001b[0m\u001b[0m\n\u001b[1;32m    573\u001b[0m \u001b[0;34m\u001b[0m\u001b[0m\n",
      "\u001b[0;32m/home/venturer/anaconda2/envs/python3/lib/python3.6/site-packages/sklearn/externals/joblib/_parallel_backends.py\u001b[0m in \u001b[0;36mapply_async\u001b[0;34m(self, func, callback)\u001b[0m\n\u001b[1;32m    107\u001b[0m     \u001b[0;32mdef\u001b[0m \u001b[0mapply_async\u001b[0m\u001b[0;34m(\u001b[0m\u001b[0mself\u001b[0m\u001b[0;34m,\u001b[0m \u001b[0mfunc\u001b[0m\u001b[0;34m,\u001b[0m \u001b[0mcallback\u001b[0m\u001b[0;34m=\u001b[0m\u001b[0;32mNone\u001b[0m\u001b[0;34m)\u001b[0m\u001b[0;34m:\u001b[0m\u001b[0;34m\u001b[0m\u001b[0m\n\u001b[1;32m    108\u001b[0m         \u001b[0;34m\"\"\"Schedule a func to be run\"\"\"\u001b[0m\u001b[0;34m\u001b[0m\u001b[0m\n\u001b[0;32m--> 109\u001b[0;31m         \u001b[0mresult\u001b[0m \u001b[0;34m=\u001b[0m \u001b[0mImmediateResult\u001b[0m\u001b[0;34m(\u001b[0m\u001b[0mfunc\u001b[0m\u001b[0;34m)\u001b[0m\u001b[0;34m\u001b[0m\u001b[0m\n\u001b[0m\u001b[1;32m    110\u001b[0m         \u001b[0;32mif\u001b[0m \u001b[0mcallback\u001b[0m\u001b[0;34m:\u001b[0m\u001b[0;34m\u001b[0m\u001b[0m\n\u001b[1;32m    111\u001b[0m             \u001b[0mcallback\u001b[0m\u001b[0;34m(\u001b[0m\u001b[0mresult\u001b[0m\u001b[0;34m)\u001b[0m\u001b[0;34m\u001b[0m\u001b[0m\n",
      "\u001b[0;32m/home/venturer/anaconda2/envs/python3/lib/python3.6/site-packages/sklearn/externals/joblib/_parallel_backends.py\u001b[0m in \u001b[0;36m__init__\u001b[0;34m(self, batch)\u001b[0m\n\u001b[1;32m    324\u001b[0m         \u001b[0;31m# Don't delay the application, to avoid keeping the input\u001b[0m\u001b[0;34m\u001b[0m\u001b[0;34m\u001b[0m\u001b[0m\n\u001b[1;32m    325\u001b[0m         \u001b[0;31m# arguments in memory\u001b[0m\u001b[0;34m\u001b[0m\u001b[0;34m\u001b[0m\u001b[0m\n\u001b[0;32m--> 326\u001b[0;31m         \u001b[0mself\u001b[0m\u001b[0;34m.\u001b[0m\u001b[0mresults\u001b[0m \u001b[0;34m=\u001b[0m \u001b[0mbatch\u001b[0m\u001b[0;34m(\u001b[0m\u001b[0;34m)\u001b[0m\u001b[0;34m\u001b[0m\u001b[0m\n\u001b[0m\u001b[1;32m    327\u001b[0m \u001b[0;34m\u001b[0m\u001b[0m\n\u001b[1;32m    328\u001b[0m     \u001b[0;32mdef\u001b[0m \u001b[0mget\u001b[0m\u001b[0;34m(\u001b[0m\u001b[0mself\u001b[0m\u001b[0;34m)\u001b[0m\u001b[0;34m:\u001b[0m\u001b[0;34m\u001b[0m\u001b[0m\n",
      "\u001b[0;32m/home/venturer/anaconda2/envs/python3/lib/python3.6/site-packages/sklearn/externals/joblib/parallel.py\u001b[0m in \u001b[0;36m__call__\u001b[0;34m(self)\u001b[0m\n\u001b[1;32m    129\u001b[0m \u001b[0;34m\u001b[0m\u001b[0m\n\u001b[1;32m    130\u001b[0m     \u001b[0;32mdef\u001b[0m \u001b[0m__call__\u001b[0m\u001b[0;34m(\u001b[0m\u001b[0mself\u001b[0m\u001b[0;34m)\u001b[0m\u001b[0;34m:\u001b[0m\u001b[0;34m\u001b[0m\u001b[0m\n\u001b[0;32m--> 131\u001b[0;31m         \u001b[0;32mreturn\u001b[0m \u001b[0;34m[\u001b[0m\u001b[0mfunc\u001b[0m\u001b[0;34m(\u001b[0m\u001b[0;34m*\u001b[0m\u001b[0margs\u001b[0m\u001b[0;34m,\u001b[0m \u001b[0;34m**\u001b[0m\u001b[0mkwargs\u001b[0m\u001b[0;34m)\u001b[0m \u001b[0;32mfor\u001b[0m \u001b[0mfunc\u001b[0m\u001b[0;34m,\u001b[0m \u001b[0margs\u001b[0m\u001b[0;34m,\u001b[0m \u001b[0mkwargs\u001b[0m \u001b[0;32min\u001b[0m \u001b[0mself\u001b[0m\u001b[0;34m.\u001b[0m\u001b[0mitems\u001b[0m\u001b[0;34m]\u001b[0m\u001b[0;34m\u001b[0m\u001b[0m\n\u001b[0m\u001b[1;32m    132\u001b[0m \u001b[0;34m\u001b[0m\u001b[0m\n\u001b[1;32m    133\u001b[0m     \u001b[0;32mdef\u001b[0m \u001b[0m__len__\u001b[0m\u001b[0;34m(\u001b[0m\u001b[0mself\u001b[0m\u001b[0;34m)\u001b[0m\u001b[0;34m:\u001b[0m\u001b[0;34m\u001b[0m\u001b[0m\n",
      "\u001b[0;32m/home/venturer/anaconda2/envs/python3/lib/python3.6/site-packages/sklearn/externals/joblib/parallel.py\u001b[0m in \u001b[0;36m<listcomp>\u001b[0;34m(.0)\u001b[0m\n\u001b[1;32m    129\u001b[0m \u001b[0;34m\u001b[0m\u001b[0m\n\u001b[1;32m    130\u001b[0m     \u001b[0;32mdef\u001b[0m \u001b[0m__call__\u001b[0m\u001b[0;34m(\u001b[0m\u001b[0mself\u001b[0m\u001b[0;34m)\u001b[0m\u001b[0;34m:\u001b[0m\u001b[0;34m\u001b[0m\u001b[0m\n\u001b[0;32m--> 131\u001b[0;31m         \u001b[0;32mreturn\u001b[0m \u001b[0;34m[\u001b[0m\u001b[0mfunc\u001b[0m\u001b[0;34m(\u001b[0m\u001b[0;34m*\u001b[0m\u001b[0margs\u001b[0m\u001b[0;34m,\u001b[0m \u001b[0;34m**\u001b[0m\u001b[0mkwargs\u001b[0m\u001b[0;34m)\u001b[0m \u001b[0;32mfor\u001b[0m \u001b[0mfunc\u001b[0m\u001b[0;34m,\u001b[0m \u001b[0margs\u001b[0m\u001b[0;34m,\u001b[0m \u001b[0mkwargs\u001b[0m \u001b[0;32min\u001b[0m \u001b[0mself\u001b[0m\u001b[0;34m.\u001b[0m\u001b[0mitems\u001b[0m\u001b[0;34m]\u001b[0m\u001b[0;34m\u001b[0m\u001b[0m\n\u001b[0m\u001b[1;32m    132\u001b[0m \u001b[0;34m\u001b[0m\u001b[0m\n\u001b[1;32m    133\u001b[0m     \u001b[0;32mdef\u001b[0m \u001b[0m__len__\u001b[0m\u001b[0;34m(\u001b[0m\u001b[0mself\u001b[0m\u001b[0;34m)\u001b[0m\u001b[0;34m:\u001b[0m\u001b[0;34m\u001b[0m\u001b[0m\n",
      "\u001b[0;31mKeyboardInterrupt\u001b[0m: "
     ]
    }
   ],
   "source": [
    "## choose k\n",
    "train, test = train_test_split(final2, test_size = 0.1)\n",
    "features = list(final2.columns)[4:]\n",
    "combinations = list(final2.columns)[1:4]\n",
    "train_X = train[features]\n",
    "train_y = train['Target']\n",
    "test_X = test[features]\n",
    "test_y = test['Target']\n",
    "for i in range(5,50,5):\n",
    "    print ('k = ' + str(i))\n",
    "    neigh = KNeighborsClassifier(n_neighbors = i, weights='distance')\n",
    "    neigh.fit(train_X, train_y)\n",
    "    print('Training acc : ' + str(neigh.score(train_X, train_y)))\n",
    "    print('Testing acc : ' + str(neigh.score(test_X, test_y)))\n",
    "    pred = neigh.predict(test_X)\n",
    "    print('F1 : ' + str(f1_score(list(test_y), pred, average='macro')))"
   ]
  },
  {
   "cell_type": "code",
   "execution_count": null,
   "metadata": {
    "collapsed": true
   },
   "outputs": [],
   "source": [
    "## Get average f1 before refine\n",
    "## change dataset\n",
    "f1 = 0\n",
    "for round in range(1,6):\n",
    "    print(\"Round : \" + str(round))\n",
    "    train, test = train_test_split(final2, test_size = 0.1)\n",
    "    features = list(final2.columns)[4:]\n",
    "    train_X = train[features]\n",
    "    train_y = train['Target']\n",
    "    test_X = test[features]\n",
    "    test_y = test['Target']\n",
    "    neigh = KNeighborsClassifier(n_neighbors = 15, weights='distance')\n",
    "    neigh.fit(train_X, train_y)\n",
    "    print('Training acc : ' + str(neigh.score(train_X, train_y)))\n",
    "    print('Testing acc : ' + str(neigh.score(test_X, test_y)))\n",
    "    pred = neigh.predict(test_X)\n",
    "    curr_f1 = f1_score(list(test_y), pred, average='macro')\n",
    "    f1 += curr_f1\n",
    "    print('F1 : ' + str(curr_f1))\n",
    "    print(\"= = = = = Round End = = = = =\")\n",
    "print(\"Average F1 : \" + str(f1 * 1.0 / 5))"
   ]
  },
  {
   "cell_type": "code",
   "execution_count": null,
   "metadata": {
    "collapsed": true
   },
   "outputs": [],
   "source": []
  }
 ],
 "metadata": {
  "kernelspec": {
   "display_name": "Python 3",
   "language": "python",
   "name": "python3"
  },
  "language_info": {
   "codemirror_mode": {
    "name": "ipython",
    "version": 3
   },
   "file_extension": ".py",
   "mimetype": "text/x-python",
   "name": "python",
   "nbconvert_exporter": "python",
   "pygments_lexer": "ipython3",
   "version": "3.6.0"
  }
 },
 "nbformat": 4,
 "nbformat_minor": 2
}
