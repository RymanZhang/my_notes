{
 "cells": [
  {
   "cell_type": "code",
   "execution_count": 1,
   "metadata": {
    "collapsed": true
   },
   "outputs": [],
   "source": [
    "## P203 Submission Version : \n",
    "## P203 Test version: 只用第一个前缀和后缀, 0.2效果一般般, 0.01效果不错, 第二个前缀和后缀作用不大"
   ]
  },
  {
   "cell_type": "code",
   "execution_count": 1,
   "metadata": {
    "collapsed": false
   },
   "outputs": [],
   "source": [
    "import helper\n",
    "import time\n",
    "import submissionTreeKNN as submission\n",
    "import pickle\n",
    "from sklearn.model_selection import train_test_split\n",
    "from sklearn.metrics import f1_score, accuracy_score, precision_score, recall_score\n",
    "\n",
    "raw_data = helper.read_data('./asset/training_data.txt')\n",
    "classifier_path = './asset/classifier.dat'"
   ]
  },
  {
   "cell_type": "code",
   "execution_count": 5,
   "metadata": {
    "collapsed": false
   },
   "outputs": [],
   "source": [
    "# Test 1\n",
    "submission.train(raw_data[100:], classifier_path)"
   ]
  },
  {
   "cell_type": "code",
   "execution_count": 6,
   "metadata": {
    "collapsed": false
   },
   "outputs": [
    {
     "name": "stdout",
     "output_type": "stream",
     "text": [
      "[1, 1, 2, 1, 1, 1, 1, 2, 1, 1, 1, 1, 1, 1, 1, 2, 1, 1, 1, 1, 1, 3, 2, 1, 1, 2, 1, 1, 1, 2, 1, 2, 1, 1, 1, 1, 1, 1, 1, 1, 2, 1, 1, 2, 1, 2, 2, 1, 1, 3]\n"
     ]
    }
   ],
   "source": [
    "test_data = helper.read_data('./asset/tiny_test.txt')\n",
    "prediction = submission.test(test_data, classifier_path)\n",
    "print(prediction)  "
   ]
  },
  {
   "cell_type": "code",
   "execution_count": 7,
   "metadata": {
    "collapsed": false
   },
   "outputs": [
    {
     "name": "stdout",
     "output_type": "stream",
     "text": [
      "0.814949494949\n"
     ]
    }
   ],
   "source": [
    "ground_truth = [1, 1, 2, 1, 1, 1, 1, 2, 1, 1, 1, 1, 1, 1, 1, 2, 1, 1, 1, 1, 1, 2, 1, 1, 1, 2, 1, 1, 2, 2, 1, 2, 1, 1, 1, 1, 1, 1, 1, 1, 2, 1, 1, 2, 1, 1, 2, 1, 1, 3]\n",
    "print(f1_score(ground_truth, prediction, average='macro'))"
   ]
  },
  {
   "cell_type": "code",
   "execution_count": 8,
   "metadata": {
    "collapsed": true
   },
   "outputs": [],
   "source": [
    "def split_to_list(curr_row):\n",
    "    word = curr_row[:curr_row.index(':')]\n",
    "    splitted_list = curr_row[curr_row.index(':') + 1 : ].split(' ')\n",
    "    return word, splitted_list\n",
    "def check(splitted_list):\n",
    "    count = 0\n",
    "    target = 0\n",
    "    removed_stress = []\n",
    "    for item in splitted_list[:]:\n",
    "        try: # vowel\n",
    "            curr = int(item[-1]) \n",
    "            removed_stress.append(item[:-1])\n",
    "            count += 1\n",
    "            if curr == 1:\n",
    "                target = count\n",
    "        except: # consonant\n",
    "            removed_stress.append(item)\n",
    "    return removed_stress, target\n",
    "def get_test_data(test_data):\n",
    "    data_list = []\n",
    "    target_list = []\n",
    "    for curr_row in test_data[:]:\n",
    "        word, splitted_list = split_to_list(curr_row)\n",
    "        removed_stress, target = check(splitted_list)\n",
    "        data_list.append(word + ':' + ' '.join(removed_stress))\n",
    "        target_list.append(target)\n",
    "    \n",
    "    return data_list, target_list  "
   ]
  },
  {
   "cell_type": "code",
   "execution_count": 9,
   "metadata": {
    "collapsed": true
   },
   "outputs": [],
   "source": [
    "def get_statistics(prediction, ground_truth):\n",
    "    count1 = 0\n",
    "    count1m = 0\n",
    "    count2 = 0\n",
    "    count2m = 0\n",
    "    count3 = 0\n",
    "    count3m = 0\n",
    "    count4 = 0\n",
    "    count4m = 0\n",
    "    for i in range(len(prediction)):\n",
    "        if ground_truth[i] == 1:\n",
    "            count1 += 1\n",
    "            if prediction[i] != 1:\n",
    "                count1m += 1\n",
    "        if ground_truth[i] == 2:\n",
    "            count2 += 1\n",
    "            if prediction[i] != 2:\n",
    "                count2m += 1\n",
    "        if ground_truth[i] == 3:\n",
    "            count3 += 1\n",
    "            if prediction[i] != 3:\n",
    "                count3m += 1\n",
    "        if ground_truth[i] == 4:\n",
    "            count4 += 1\n",
    "            if prediction[i] != 4:\n",
    "                count4m += 1\n",
    "    print(\"Target 1 : \" + str(count1) + \" , misclassified : \" + str(count1m))\n",
    "    print(\"Target 2 : \" + str(count2) + \" , misclassified : \" + str(count2m))\n",
    "    print(\"Target 3 : \" + str(count3) + \" , misclassified : \" + str(count3m))\n",
    "    print(\"Target 4 : \" + str(count4) + \" , misclassified : \" + str(count4m))"
   ]
  },
  {
   "cell_type": "code",
   "execution_count": 10,
   "metadata": {
    "collapsed": true
   },
   "outputs": [],
   "source": [
    "def fuckfuckrounds(raw_data, epoches):\n",
    "    for i in range(epoches):\n",
    "        print(\"Now round \" + str(i))\n",
    "        print(\"Start time : \" + time.asctime())\n",
    "        train_data, test_data = train_test_split(raw_data, test_size = 0.1)\n",
    "        data_list, target_list = get_test_data(test_data)\n",
    "        submission.train(train_data, classifier_path)\n",
    "        pred_res = submission.test(data_list, classifier_path)\n",
    "        acc = accuracy_score(target_list, pred_res)\n",
    "        f1 = f1_score(target_list, pred_res, average='macro')\n",
    "        precision = precision_score(target_list, pred_res, average='macro')\n",
    "        recall = recall_score(target_list, pred_res, average='macro')\n",
    "        print(\"Testing accuracy : \" + str(acc))\n",
    "        get_statistics(pred_res, target_list)\n",
    "        print(\"Precision : \" + str(precision))\n",
    "        print(\"Recall : \" + str(recall))\n",
    "        print(\"F1 : \" + str(f1))\n",
    "        print(\"End time : \" + time.asctime())\n",
    "        print(\"---------------\")"
   ]
  },
  {
   "cell_type": "code",
   "execution_count": 8,
   "metadata": {
    "collapsed": false
   },
   "outputs": [
    {
     "name": "stdout",
     "output_type": "stream",
     "text": [
      "Now round 0\n",
      "Start time : Sun May 21 06:07:00 2017\n",
      "Testing accuracy : 0.9022\n",
      "Target 1 : 3445 , misclassified : 246\n",
      "Target 2 : 1268 , misclassified : 203\n",
      "Target 3 : 280 , misclassified : 40\n",
      "Target 4 : 7 , misclassified : 0\n",
      "Precision : 0.834001616587\n",
      "Recall : 0.906410095618\n",
      "F1 : 0.86636600997\n",
      "End time : Sun May 21 06:08:46 2017\n",
      "---------------\n",
      "Now round 1\n",
      "Start time : Sun May 21 06:08:46 2017\n",
      "Testing accuracy : 0.8968\n",
      "Target 1 : 3518 , misclassified : 275\n",
      "Target 2 : 1204 , misclassified : 199\n",
      "Target 3 : 269 , misclassified : 38\n",
      "Target 4 : 9 , misclassified : 4\n",
      "Precision : 0.782945290361\n",
      "Recall : 0.792709952142\n",
      "F1 : 0.786455446607\n",
      "End time : Sun May 21 06:10:28 2017\n",
      "---------------\n",
      "Now round 2\n",
      "Start time : Sun May 21 06:10:28 2017\n",
      "Testing accuracy : 0.9034\n",
      "Target 1 : 3473 , misclassified : 259\n",
      "Target 2 : 1232 , misclassified : 182\n",
      "Target 3 : 288 , misclassified : 40\n",
      "Target 4 : 7 , misclassified : 2\n",
      "Precision : 0.894901577815\n",
      "Recall : 0.838273564384\n",
      "F1 : 0.860382405549\n",
      "End time : Sun May 21 06:12:03 2017\n",
      "---------------\n",
      "Now round 3\n",
      "Start time : Sun May 21 06:12:03 2017\n",
      "Testing accuracy : 0.9078\n",
      "Target 1 : 3485 , misclassified : 239\n",
      "Target 2 : 1244 , misclassified : 181\n",
      "Target 3 : 266 , misclassified : 39\n",
      "Target 4 : 5 , misclassified : 2\n",
      "Precision : 0.829661763876\n",
      "Recall : 0.809826359848\n",
      "F1 : 0.817318908701\n",
      "End time : Sun May 21 06:13:20 2017\n",
      "---------------\n",
      "Now round 4\n",
      "Start time : Sun May 21 06:13:20 2017\n",
      "Testing accuracy : 0.9064\n",
      "Target 1 : 3505 , misclassified : 242\n",
      "Target 2 : 1208 , misclassified : 174\n",
      "Target 3 : 281 , misclassified : 50\n",
      "Target 4 : 6 , misclassified : 2\n",
      "Precision : 0.811069204852\n",
      "Recall : 0.818911691492\n",
      "F1 : 0.814875984987\n",
      "End time : Sun May 21 06:14:35 2017\n",
      "---------------\n"
     ]
    }
   ],
   "source": [
    "fuckfuckrounds(raw_data, epoches = 5) # no parameters for tree"
   ]
  },
  {
   "cell_type": "code",
   "execution_count": 11,
   "metadata": {
    "collapsed": false
   },
   "outputs": [
    {
     "name": "stdout",
     "output_type": "stream",
     "text": [
      "Now round 0\n",
      "Start time : Sun May 21 06:17:29 2017\n",
      "Testing accuracy : 0.9002\n",
      "Target 1 : 3515 , misclassified : 272\n",
      "Target 2 : 1196 , misclassified : 183\n",
      "Target 3 : 284 , misclassified : 43\n",
      "Target 4 : 5 , misclassified : 1\n",
      "Precision : 0.780909822078\n",
      "Recall : 0.854549717512\n",
      "F1 : 0.812627831995\n",
      "End time : Sun May 21 06:18:43 2017\n",
      "---------------\n",
      "Now round 1\n",
      "Start time : Sun May 21 06:18:43 2017\n",
      "Testing accuracy : 0.907\n",
      "Target 1 : 3480 , misclassified : 241\n",
      "Target 2 : 1206 , misclassified : 173\n",
      "Target 3 : 311 , misclassified : 48\n",
      "Target 4 : 3 , misclassified : 3\n",
      "Precision : 0.647499411856\n",
      "Recall : 0.658239217714\n",
      "F1 : 0.652711031224\n",
      "End time : Sun May 21 06:19:58 2017\n",
      "---------------\n",
      "Now round 2\n",
      "Start time : Sun May 21 06:19:58 2017\n",
      "Testing accuracy : 0.8996\n",
      "Target 1 : 3494 , misclassified : 273\n",
      "Target 2 : 1200 , misclassified : 184\n",
      "Target 3 : 299 , misclassified : 43\n",
      "Target 4 : 7 , misclassified : 2\n",
      "Precision : 0.79237815279\n",
      "Recall : 0.834751432005\n",
      "F1 : 0.812360457578\n",
      "End time : Sun May 21 06:21:20 2017\n",
      "---------------\n",
      "Now round 3\n",
      "Start time : Sun May 21 06:21:20 2017\n",
      "Testing accuracy : 0.9044\n",
      "Target 1 : 3483 , misclassified : 264\n",
      "Target 2 : 1223 , misclassified : 171\n",
      "Target 3 : 288 , misclassified : 40\n",
      "Target 4 : 6 , misclassified : 3\n",
      "Precision : 0.799986283653\n",
      "Recall : 0.78637356742\n",
      "F1 : 0.791804532491\n",
      "End time : Sun May 21 06:22:35 2017\n",
      "---------------\n",
      "Now round 4\n",
      "Start time : Sun May 21 06:22:35 2017\n",
      "Testing accuracy : 0.9052\n",
      "Target 1 : 3469 , misclassified : 228\n",
      "Target 2 : 1263 , misclassified : 203\n",
      "Target 3 : 260 , misclassified : 40\n",
      "Target 4 : 8 , misclassified : 3\n",
      "Precision : 0.817893169767\n",
      "Recall : 0.811175107244\n",
      "F1 : 0.813423791769\n",
      "End time : Sun May 21 06:23:53 2017\n",
      "---------------\n"
     ]
    }
   ],
   "source": [
    "fuckfuckrounds(raw_data, epoches = 5) # max_depth = 20"
   ]
  }
 ],
 "metadata": {
  "kernelspec": {
   "display_name": "Python 3",
   "language": "python",
   "name": "python3"
  },
  "language_info": {
   "codemirror_mode": {
    "name": "ipython",
    "version": 3
   },
   "file_extension": ".py",
   "mimetype": "text/x-python",
   "name": "python",
   "nbconvert_exporter": "python",
   "pygments_lexer": "ipython3",
   "version": "3.6.0"
  }
 },
 "nbformat": 4,
 "nbformat_minor": 2
}
