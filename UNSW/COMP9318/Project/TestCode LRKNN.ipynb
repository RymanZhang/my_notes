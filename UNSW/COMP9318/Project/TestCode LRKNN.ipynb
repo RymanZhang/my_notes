{
 "cells": [
  {
   "cell_type": "code",
   "execution_count": 11,
   "metadata": {
    "collapsed": true
   },
   "outputs": [],
   "source": [
    "## P203 Submission Version : \n",
    "## P203 Test version: 只用第一个前缀和后缀, 0.2效果一般般, 0.01效果不错, 第二个前缀和后缀作用不大"
   ]
  },
  {
   "cell_type": "code",
   "execution_count": 3,
   "metadata": {
    "collapsed": false
   },
   "outputs": [],
   "source": [
    "import helper\n",
    "import time\n",
    "import submissionLRKNN as submission\n",
    "import pickle\n",
    "from sklearn.model_selection import train_test_split\n",
    "from sklearn.metrics import f1_score, accuracy_score, precision_score, recall_score\n",
    "\n",
    "raw_data = helper.read_data('./asset/training_data.txt')\n",
    "classifier_path = './asset/classifier.dat'"
   ]
  },
  {
   "cell_type": "code",
   "execution_count": 4,
   "metadata": {
    "collapsed": false
   },
   "outputs": [],
   "source": [
    "# Test 1\n",
    "submission.train(raw_data[100:], classifier_path)"
   ]
  },
  {
   "cell_type": "code",
   "execution_count": 5,
   "metadata": {
    "collapsed": false
   },
   "outputs": [
    {
     "name": "stdout",
     "output_type": "stream",
     "text": [
      "[1, 1, 2, 1, 1, 1, 1, 2, 1, 1, 1, 1, 1, 1, 1, 2, 1, 1, 1, 1, 1, 3, 1, 1, 1, 2, 1, 1, 2, 2, 1, 2, 1, 1, 1, 1, 1, 1, 1, 1, 2, 1, 1, 2, 1, 2, 2, 1, 1, 3]\n"
     ]
    }
   ],
   "source": [
    "test_data = helper.read_data('./asset/tiny_test.txt')\n",
    "prediction = submission.test(test_data, classifier_path)\n",
    "print(prediction)  "
   ]
  },
  {
   "cell_type": "code",
   "execution_count": 6,
   "metadata": {
    "collapsed": false
   },
   "outputs": [
    {
     "name": "stdout",
     "output_type": "stream",
     "text": [
      "0.854141414141\n"
     ]
    }
   ],
   "source": [
    "ground_truth = [1, 1, 2, 1, 1, 1, 1, 2, 1, 1, 1, 1, 1, 1, 1, 2, 1, 1, 1, 1, 1, 2, 1, 1, 1, 2, 1, 1, 2, 2, 1, 2, 1, 1, 1, 1, 1, 1, 1, 1, 2, 1, 1, 2, 1, 1, 2, 1, 1, 3]\n",
    "print(f1_score(ground_truth, prediction, average='macro'))"
   ]
  },
  {
   "cell_type": "code",
   "execution_count": 7,
   "metadata": {
    "collapsed": true
   },
   "outputs": [],
   "source": [
    "def split_to_list(curr_row):\n",
    "    word = curr_row[:curr_row.index(':')]\n",
    "    splitted_list = curr_row[curr_row.index(':') + 1 : ].split(' ')\n",
    "    return word, splitted_list\n",
    "def check(splitted_list):\n",
    "    count = 0\n",
    "    target = 0\n",
    "    removed_stress = []\n",
    "    for item in splitted_list[:]:\n",
    "        try: # vowel\n",
    "            curr = int(item[-1]) \n",
    "            removed_stress.append(item[:-1])\n",
    "            count += 1\n",
    "            if curr == 1:\n",
    "                target = count\n",
    "        except: # consonant\n",
    "            removed_stress.append(item)\n",
    "    return removed_stress, target\n",
    "def get_test_data(test_data):\n",
    "    data_list = []\n",
    "    target_list = []\n",
    "    for curr_row in test_data[:]:\n",
    "        word, splitted_list = split_to_list(curr_row)\n",
    "        removed_stress, target = check(splitted_list)\n",
    "        data_list.append(word + ':' + ' '.join(removed_stress))\n",
    "        target_list.append(target)\n",
    "    \n",
    "    return data_list, target_list  "
   ]
  },
  {
   "cell_type": "code",
   "execution_count": 8,
   "metadata": {
    "collapsed": true
   },
   "outputs": [],
   "source": [
    "def get_statistics(prediction, ground_truth):\n",
    "    count1 = 0\n",
    "    count1m = 0\n",
    "    count2 = 0\n",
    "    count2m = 0\n",
    "    count3 = 0\n",
    "    count3m = 0\n",
    "    count4 = 0\n",
    "    count4m = 0\n",
    "    for i in range(len(prediction)):\n",
    "        if ground_truth[i] == 1:\n",
    "            count1 += 1\n",
    "            if prediction[i] != 1:\n",
    "                count1m += 1\n",
    "        if ground_truth[i] == 2:\n",
    "            count2 += 1\n",
    "            if prediction[i] != 2:\n",
    "                count2m += 1\n",
    "        if ground_truth[i] == 3:\n",
    "            count3 += 1\n",
    "            if prediction[i] != 3:\n",
    "                count3m += 1\n",
    "        if ground_truth[i] == 4:\n",
    "            count4 += 1\n",
    "            if prediction[i] != 4:\n",
    "                count4m += 1\n",
    "    print(\"Target 1 : \" + str(count1) + \" , misclassified : \" + str(count1m))\n",
    "    print(\"Target 2 : \" + str(count2) + \" , misclassified : \" + str(count2m))\n",
    "    print(\"Target 3 : \" + str(count3) + \" , misclassified : \" + str(count3m))\n",
    "    print(\"Target 4 : \" + str(count4) + \" , misclassified : \" + str(count4m))"
   ]
  },
  {
   "cell_type": "code",
   "execution_count": 9,
   "metadata": {
    "collapsed": true
   },
   "outputs": [],
   "source": [
    "def fuckfuckrounds(raw_data, epoches):\n",
    "    for i in range(epoches):\n",
    "        print(\"Now round \" + str(i))\n",
    "        print(\"Start time : \" + time.asctime())\n",
    "        train_data, test_data = train_test_split(raw_data, test_size = 0.1)\n",
    "        data_list, target_list = get_test_data(test_data)\n",
    "        submission.train(train_data, classifier_path)\n",
    "        pred_res = submission.test(data_list, classifier_path)\n",
    "        acc = accuracy_score(target_list, pred_res)\n",
    "        f1 = f1_score(target_list, pred_res, average='macro')\n",
    "        precision = precision_score(target_list, pred_res, average='macro')\n",
    "        recall = recall_score(target_list, pred_res, average='macro')\n",
    "        print(\"Testing accuracy : \" + str(acc))\n",
    "        get_statistics(pred_res, target_list)\n",
    "        print(\"Precision : \" + str(precision))\n",
    "        print(\"Recall : \" + str(recall))\n",
    "        print(\"F1 : \" + str(f1))\n",
    "        print(\"End time : \" + time.asctime())\n",
    "        print(\"---------------\")"
   ]
  },
  {
   "cell_type": "code",
   "execution_count": 10,
   "metadata": {
    "collapsed": false
   },
   "outputs": [
    {
     "name": "stdout",
     "output_type": "stream",
     "text": [
      "Now round 0\n",
      "Start time : Sun May 21 05:58:19 2017\n",
      "Testing accuracy : 0.9038\n",
      "Target 1 : 3495 , misclassified : 205\n",
      "Target 2 : 1192 , misclassified : 217\n",
      "Target 3 : 304 , misclassified : 56\n",
      "Target 4 : 9 , misclassified : 3\n",
      "Precision : 0.817153754725\n",
      "Recall : 0.810438484685\n",
      "F1 : 0.813746218888\n",
      "End time : Sun May 21 06:01:25 2017\n",
      "---------------\n",
      "Now round 1\n",
      "Start time : Sun May 21 06:01:25 2017\n",
      "Testing accuracy : 0.9044\n",
      "Target 1 : 3444 , misclassified : 222\n",
      "Target 2 : 1238 , misclassified : 221\n",
      "Target 3 : 314 , misclassified : 33\n",
      "Target 4 : 4 , misclassified : 2\n",
      "Precision : 0.744437734055\n",
      "Recall : 0.787982699115\n",
      "F1 : 0.764102613591\n",
      "End time : Sun May 21 06:03:52 2017\n",
      "---------------\n",
      "Now round 2\n",
      "Start time : Sun May 21 06:03:52 2017\n",
      "Testing accuracy : 0.896\n",
      "Target 1 : 3460 , misclassified : 226\n",
      "Target 2 : 1220 , misclassified : 237\n",
      "Target 3 : 313 , misclassified : 55\n",
      "Target 4 : 7 , misclassified : 2\n",
      "Precision : 0.799789774902\n",
      "Recall : 0.819746662572\n",
      "F1 : 0.809012257046\n",
      "End time : Sun May 21 06:06:08 2017\n",
      "---------------\n",
      "Now round 3\n",
      "Start time : Sun May 21 06:06:08 2017\n",
      "Testing accuracy : 0.9102\n",
      "Target 1 : 3468 , misclassified : 207\n",
      "Target 2 : 1244 , misclassified : 203\n",
      "Target 3 : 284 , misclassified : 38\n",
      "Target 4 : 4 , misclassified : 1\n",
      "Precision : 0.910577318205\n",
      "Recall : 0.84833133051\n",
      "F1 : 0.874988399037\n",
      "End time : Sun May 21 06:08:54 2017\n",
      "---------------\n",
      "Now round 4\n",
      "Start time : Sun May 21 06:08:54 2017\n",
      "Testing accuracy : 0.9076\n",
      "Target 1 : 3494 , misclassified : 214\n",
      "Target 2 : 1202 , misclassified : 219\n",
      "Target 3 : 303 , misclassified : 29\n",
      "Target 4 : 1 , misclassified : 0\n",
      "Precision : 0.78290074333\n",
      "Recall : 0.915211559036\n",
      "F1 : 0.82804981717\n",
      "End time : Sun May 21 06:11:50 2017\n",
      "---------------\n"
     ]
    }
   ],
   "source": [
    "fuckfuckrounds(raw_data, epoches = 5)"
   ]
  }
 ],
 "metadata": {
  "kernelspec": {
   "display_name": "Python 3",
   "language": "python",
   "name": "python3"
  },
  "language_info": {
   "codemirror_mode": {
    "name": "ipython",
    "version": 3
   },
   "file_extension": ".py",
   "mimetype": "text/x-python",
   "name": "python",
   "nbconvert_exporter": "python",
   "pygments_lexer": "ipython3",
   "version": "3.6.0"
  }
 },
 "nbformat": 4,
 "nbformat_minor": 2
}
