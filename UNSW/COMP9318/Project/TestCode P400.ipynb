{
 "cells": [
  {
   "cell_type": "code",
   "execution_count": 11,
   "metadata": {
    "collapsed": true
   },
   "outputs": [],
   "source": [
    "## P203 Submission Version : \n",
    "## P203 Test version: 只用第一个前缀和后缀, 0.2效果一般般, 0.01效果不错, 第二个前缀和后缀作用不大"
   ]
  },
  {
   "cell_type": "code",
   "execution_count": 1,
   "metadata": {
    "collapsed": false
   },
   "outputs": [],
   "source": [
    "import helper\n",
    "import time\n",
    "import submission_test # test version\n",
    "import submission # submission version\n",
    "import pickle\n",
    "from sklearn.model_selection import train_test_split\n",
    "from sklearn.metrics import f1_score, accuracy_score, precision_score, recall_score\n",
    "\n",
    "raw_data = helper.read_data('./asset/training_data.txt')\n",
    "classifier_path = './asset/classifier.dat'"
   ]
  },
  {
   "cell_type": "code",
   "execution_count": 2,
   "metadata": {
    "collapsed": false
   },
   "outputs": [],
   "source": [
    "# Test 1\n",
    "submission.train(raw_data[100:200], classifier_path)"
   ]
  },
  {
   "cell_type": "code",
   "execution_count": 3,
   "metadata": {
    "collapsed": false
   },
   "outputs": [
    {
     "name": "stdout",
     "output_type": "stream",
     "text": [
      "[1, 1, 1, 1, 1, 1, 1, 3, 1, 1, 1, 1, 2, 1, 2, 1, 1, 1, 2, 1, 1, 3, 1, 1, 1, 3, 1, 1, 1, 2, 1, 1, 1, 1, 1, 1, 1, 2, 1, 1, 2, 1, 1, 3, 1, 1, 2, 1, 1, 3]\n"
     ]
    }
   ],
   "source": [
    "test_data = helper.read_data('./asset/tiny_test.txt')\n",
    "prediction = submission.test(test_data, classifier_path)\n",
    "print(prediction)  "
   ]
  },
  {
   "cell_type": "code",
   "execution_count": 4,
   "metadata": {
    "collapsed": false
   },
   "outputs": [
    {
     "name": "stdout",
     "output_type": "stream",
     "text": [
      "0.520467836257\n"
     ]
    }
   ],
   "source": [
    "ground_truth = [1, 1, 2, 1, 1, 1, 1, 2, 1, 1, 1, 1, 1, 1, 1, 2, 1, 1, 1, 1, 1, 2, 1, 1, 1, 2, 1, 1, 2, 2, 1, 2, 1, 1, 1, 1, 1, 1, 1, 1, 2, 1, 1, 2, 1, 1, 2, 1, 1, 3]\n",
    "print(f1_score(ground_truth, prediction, average='macro'))"
   ]
  },
  {
   "cell_type": "code",
   "execution_count": 5,
   "metadata": {
    "collapsed": true
   },
   "outputs": [],
   "source": [
    "def split_to_list(curr_row):\n",
    "    word = curr_row[:curr_row.index(':')]\n",
    "    splitted_list = curr_row[curr_row.index(':') + 1 : ].split(' ')\n",
    "    return word, splitted_list\n",
    "def check(splitted_list):\n",
    "    count = 0\n",
    "    target = 0\n",
    "    removed_stress = []\n",
    "    for item in splitted_list[:]:\n",
    "        try: # vowel\n",
    "            curr = int(item[-1]) \n",
    "            removed_stress.append(item[:-1])\n",
    "            count += 1\n",
    "            if curr == 1:\n",
    "                target = count\n",
    "        except: # consonant\n",
    "            removed_stress.append(item)\n",
    "    return removed_stress, target\n",
    "def get_test_data(test_data):\n",
    "    data_list = []\n",
    "    target_list = []\n",
    "    for curr_row in test_data[:]:\n",
    "        word, splitted_list = split_to_list(curr_row)\n",
    "        removed_stress, target = check(splitted_list)\n",
    "        data_list.append(word + ':' + ' '.join(removed_stress))\n",
    "        target_list.append(target)\n",
    "    \n",
    "    return data_list, target_list  "
   ]
  },
  {
   "cell_type": "code",
   "execution_count": 8,
   "metadata": {
    "collapsed": true
   },
   "outputs": [],
   "source": [
    "def fuckfuckrounds(raw_data, epoches):\n",
    "    for i in range(epoches):\n",
    "        print(\"Now round \" + str(i))\n",
    "        print(\"Start time : \" + time.asctime())\n",
    "        train_data, test_data = train_test_split(raw_data, test_size = 0.1)\n",
    "        data_list, target_list = get_test_data(test_data)\n",
    "        submission.train(train_data, classifier_path)\n",
    "        pred_res = submission.test(data_list, classifier_path)\n",
    "        acc = accuracy_score(target_list, pred_res)\n",
    "        f1 = f1_score(target_list, pred_res, average='macro')\n",
    "        precision = precision_score(target_list, pred_res, average='macro')\n",
    "        recall = recall_score(target_list, pred_res, average='macro')\n",
    "        print(\"Testing accuracy : \" + str(acc))\n",
    "        print(\"Precision : \" + str(precision))\n",
    "        print(\"Recall : \" + str(recall))\n",
    "        print(\"F1 : \" + str(f1))\n",
    "        print(\"End time : \" + time.asctime())\n",
    "        print(\"---------------\")"
   ]
  },
  {
   "cell_type": "code",
   "execution_count": 9,
   "metadata": {
    "collapsed": false
   },
   "outputs": [
    {
     "name": "stdout",
     "output_type": "stream",
     "text": [
      "Now round 0\n",
      "Start time : Sat May 20 07:52:52 2017\n",
      "Testing accuracy : 0.9226\n",
      "Precision : 0.799910117197\n",
      "Recall : 0.786212931907\n",
      "F1 : 0.792809164547\n",
      "End time : Sat May 20 07:58:38 2017\n",
      "---------------\n",
      "Now round 1\n",
      "Start time : Sat May 20 07:58:38 2017\n",
      "Testing accuracy : 0.9112\n",
      "Precision : 0.666562949105\n",
      "Recall : 0.647640142897\n",
      "F1 : 0.656678419431\n",
      "End time : Sat May 20 08:04:16 2017\n",
      "---------------\n",
      "Now round 2\n",
      "Start time : Sat May 20 08:04:16 2017\n",
      "Testing accuracy : 0.9178\n",
      "Precision : 0.668495710313\n",
      "Recall : 0.654911401783\n",
      "F1 : 0.66147806155\n",
      "End time : Sat May 20 08:10:15 2017\n",
      "---------------\n",
      "Now round 3\n",
      "Start time : Sat May 20 08:10:15 2017\n",
      "Testing accuracy : 0.917\n",
      "Precision : 0.7822299593\n",
      "Recall : 0.728232162053\n",
      "F1 : 0.747924212202\n",
      "End time : Sat May 20 08:15:56 2017\n",
      "---------------\n",
      "Now round 4\n",
      "Start time : Sat May 20 08:15:56 2017\n",
      "Testing accuracy : 0.9098\n",
      "Precision : 0.91625455884\n",
      "Recall : 0.706934684233\n",
      "F1 : 0.754674632587\n",
      "End time : Sat May 20 08:22:05 2017\n",
      "---------------\n"
     ]
    }
   ],
   "source": [
    "fuckfuckrounds(raw_data, epoches = 5)"
   ]
  }
 ],
 "metadata": {
  "kernelspec": {
   "display_name": "Python 3",
   "language": "python",
   "name": "python3"
  },
  "language_info": {
   "codemirror_mode": {
    "name": "ipython",
    "version": 3
   },
   "file_extension": ".py",
   "mimetype": "text/x-python",
   "name": "python",
   "nbconvert_exporter": "python",
   "pygments_lexer": "ipython3",
   "version": "3.6.0"
  }
 },
 "nbformat": 4,
 "nbformat_minor": 2
}
